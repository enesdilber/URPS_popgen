{
 "cells": [
  {
   "cell_type": "code",
   "execution_count": 2,
   "id": "866e2e41",
   "metadata": {},
   "outputs": [],
   "source": [
    "import sys\n",
    "import sparse\n",
    "import jax\n",
    "import jax.numpy as jnp\n",
    "import pickle\n",
    "\n",
    "\n",
    "#momi3_loc = '/mnt/turbo/eneswork/momi_URPS/momi3/'\n",
    "momi3_loc = '/mnt/turbo/eneswork/momi_jt/momi3/'\n",
    "sys.path.append(momi3_loc)"
   ]
  },
  {
   "cell_type": "code",
   "execution_count": 3,
   "id": "9a07954a",
   "metadata": {},
   "outputs": [],
   "source": [
    "from momi3.Params import Params\n",
    "from momi3.MOMI import Momi\n",
    "\n",
    "import demes, demesdraw"
   ]
  },
  {
   "cell_type": "code",
   "execution_count": 4,
   "id": "f1e5514f",
   "metadata": {},
   "outputs": [],
   "source": [
    "demo = demes.load('SingleTwoEpoch/SingleTwoEpoch.yml')"
   ]
  },
  {
   "cell_type": "code",
   "execution_count": 5,
   "id": "7ca30043",
   "metadata": {},
   "outputs": [],
   "source": [
    "sampled_demes = demo.metadata['sampled_demes']\n",
    "sample_sizes = demo.metadata['sample_sizes']\n",
    "n_samples = dict(zip(sampled_demes, sample_sizes))\n",
    "\n",
    "momi = Momi(demo, n_samples=n_samples)"
   ]
  },
  {
   "cell_type": "code",
   "execution_count": 6,
   "id": "9a9bfd5f",
   "metadata": {},
   "outputs": [],
   "source": [
    "jsfs = sparse.load_npz(\"SingleTwoEpoch/SingleTwoEpoch.npz\")\n",
    "\n",
    "with open(\"SingleTwoEpoch/SingleTwoEpoch.npz.pickle\", \"rb\") as f:\n",
    "    metadata = pickle.load(f)"
   ]
  },
  {
   "cell_type": "code",
   "execution_count": 7,
   "id": "af9abd27",
   "metadata": {},
   "outputs": [],
   "source": [
    "momi.load_jsfs(sampled_demes, jsfs)"
   ]
  },
  {
   "cell_type": "code",
   "execution_count": 8,
   "id": "d592adc2",
   "metadata": {},
   "outputs": [],
   "source": [
    "params = Params(momi)"
   ]
  },
  {
   "cell_type": "code",
   "execution_count": 9,
   "id": "57b18b2d",
   "metadata": {},
   "outputs": [
    {
     "data": {
      "text/html": [
       "\n",
       "<html>\n",
       "<head>\n",
       "<style>\n",
       "\n",
       ".row {\n",
       "  margin-left:-5px;\n",
       "  margin-right:-5px;\n",
       "}\n",
       ".column1 {\n",
       "  float: left;\n",
       "  width: 30%;\n",
       "  padding: 5px;\n",
       "}\n",
       ".column2 {\n",
       "  float: left;\n",
       "  width: 70%;\n",
       "  padding: 5px;\n",
       "}\n",
       "table {\n",
       "  border-collapse: collapse;\n",
       "  border-spacing: 0;\n",
       "  width: 100%;\n",
       "  border: 1px solid #ddd;\n",
       "}\n",
       "</style>\n",
       "</head>\n",
       "<body>\n",
       "    <div class=\"row\">\n",
       "        <div style=\"width:30%\" class=\"column1\">\n",
       "            <img src=\"https://enesdilber.github.io/momilogo.png\" style=\"width:75px;height:52px;\">\n",
       "            <table border=\"1\" class=\"dataframe\">\n",
       "            <caption><h4>Size Parameters</h4></caption>\n",
       "                <thead>\n",
       "                    <tr style=\"text-align: right;\">\n",
       "                        <th >Parameter</th>\n",
       "                        <th >Value</th>\n",
       "                        <th >Infer</th>\n",
       "                    </tr>\n",
       "                </thead>\n",
       "                <tbody>\n",
       "                <tr>\n",
       "<td style=\"text-align:left; font-family:'Lucida Console'\">&#951<sub>0</sub></td>\n",
       "<td style=\"font-family:'Lucida Console'\">100</td>\n",
       "<td style=\"\">&#10060</td>\n",
       "</tr>\n",
       "<tr>\n",
       "<td style=\"text-align:left; font-family:'Lucida Console'\">&#951<sub>1</sub></td>\n",
       "<td style=\"font-family:'Lucida Console'\">150</td>\n",
       "<td style=\"\">&#10060</td>\n",
       "</tr>\n",
       "\n",
       "                </tbody>\n",
       "            </table>\n",
       "            <table border=\"1\" class=\"dataframe\">\n",
       "            <caption><h4>Rate Parameters</h4></caption>\n",
       "                <thead>\n",
       "                    <tr style=\"text-align: right;\">\n",
       "                        <th >Parameter</th>\n",
       "                        <th >Value</th>\n",
       "                        <th >Infer</th>\n",
       "                    </tr>\n",
       "                </thead>\n",
       "                <tbody>\n",
       "                \n",
       "                </tbody>\n",
       "            </table>\n",
       "            <table border=\"1\" class=\"dataframe\">\n",
       "                <caption><h4>Proportion Parameters</h4></caption>\n",
       "                <thead>\n",
       "                    <tr style=\"text-align: right;\">\n",
       "                        <th >Parameter</th>\n",
       "                        <th >Value</th>\n",
       "                        <th >Infer</th>\n",
       "                    </tr>\n",
       "                </thead>\n",
       "                <tbody>\n",
       "                \n",
       "                </tbody>\n",
       "            </table>\n",
       "            <table border=\"1\" class=\"dataframe\">\n",
       "            <caption><h4>Time Parameters</h4></caption>\n",
       "                <thead>\n",
       "                    <tr style=\"text-align: right;\">\n",
       "                        <th >Parameter</th>\n",
       "                        <th >Value</th>\n",
       "                        <th >Infer</th>\n",
       "                    </tr>\n",
       "                </thead>\n",
       "                <tbody>\n",
       "                <tr>\n",
       "<td style=\"text-align:left; font-family:'Lucida Console'\">&#964<sub>0</sub></td>\n",
       "<td style=\"font-family:'Lucida Console'\">0</td>\n",
       "<td style=\"\">&#10060</td>\n",
       "</tr>\n",
       "<tr>\n",
       "<td style=\"text-align:left; font-family:'Lucida Console'\">&#964<sub>1</sub></td>\n",
       "<td style=\"font-family:'Lucida Console'\">10</td>\n",
       "<td style=\"\">&#10060</td>\n",
       "</tr>\n",
       "\n",
       "                </tbody>\n",
       "            <table border=\"1\" class=\"dataframe\">\n",
       "            <caption><h4>Constraints</h4></caption>\n",
       "                <thead>\n",
       "                    <tr style=\"text-align: left;\">\n",
       "                        <th style=\"text-align:left;\">User Constraints</th>\n",
       "                    </tr>\n",
       "                </thead>\n",
       "                <tbody>\n",
       "                \n",
       "                </tbody>\n",
       "            </table>\n",
       "        </div>\n",
       "        <div style=\"width:50%\" class=\"column2\">\n",
       "            <table style=\"width: 100%\">\n",
       "                <caption><h4>Parameter Locations</h4></caption>\n",
       "                <thead>\n",
       "                    <tr>\n",
       "                        <th style=\"text-align:left; width:80%\">Demes Location</th>\n",
       "                        <th >Parameter</th>\n",
       "                    </tr>\n",
       "                </thead>\n",
       "                <tbody>\n",
       "                <tr>\n",
       "<td style=\"text-align:left; font-family:'Lucida Console', monospace\">['demes'][0]['epochs'][0]['start_size']</td>\n",
       "<td style=\"font-family:'Lucida Console'\">&#951<sub>0</sub></td>\n",
       "</tr>\n",
       "<tr>\n",
       "<td style=\"text-align:left; font-family:'Lucida Console', monospace\">['demes'][0]['epochs'][0]['end_size']</td>\n",
       "<td style=\"font-family:'Lucida Console'\">&#951<sub>0</sub></td>\n",
       "</tr>\n",
       "<tr>\n",
       "<td style=\"text-align:left; font-family:'Lucida Console', monospace\">['demes'][0]['epochs'][1]['end_size']</td>\n",
       "<td style=\"font-family:'Lucida Console'\">&#951<sub>1</sub></td>\n",
       "</tr>\n",
       "<tr>\n",
       "<td style=\"text-align:left; font-family:'Lucida Console', monospace\">['demes'][0]['epochs'][1]['start_size']</td>\n",
       "<td style=\"font-family:'Lucida Console'\">&#951<sub>1</sub></td>\n",
       "</tr>\n",
       "<tr>\n",
       "<td style=\"text-align:left; font-family:'Lucida Console', monospace\">['demes'][0]['epochs'][1]['end_time']</td>\n",
       "<td style=\"font-family:'Lucida Console'\">&#964<sub>0</sub></td>\n",
       "</tr>\n",
       "<tr>\n",
       "<td style=\"text-align:left; font-family:'Lucida Console', monospace\">['demes'][0]['epochs'][0]['end_time']</td>\n",
       "<td style=\"font-family:'Lucida Console'\">&#964<sub>1</sub></td>\n",
       "</tr>\n",
       "\n",
       "                </tbody>\n",
       "            </table>\n",
       "            </div>\n",
       "        </div>\n",
       "    </body>\n",
       "</html>\n"
      ],
      "text/plain": [
       "{'tau_2': inf, 'tau_1': 10.0, 'eta_0': 100.0, 'tau_0': 0.0, 'eta_1': 150.0}"
      ]
     },
     "execution_count": 9,
     "metadata": {},
     "output_type": "execute_result"
    }
   ],
   "source": [
    "params"
   ]
  },
  {
   "cell_type": "code",
   "execution_count": 10,
   "id": "a5c33a29",
   "metadata": {},
   "outputs": [
    {
     "data": {
      "text/plain": [
       "Array(23955.105, dtype=float32)"
      ]
     },
     "execution_count": 10,
     "metadata": {},
     "output_type": "execute_result"
    }
   ],
   "source": [
    "momi.loglik()"
   ]
  }
 ],
 "metadata": {
  "kernelspec": {
   "display_name": "Python 3 (ipykernel)",
   "language": "python",
   "name": "python3"
  },
  "language_info": {
   "codemirror_mode": {
    "name": "ipython",
    "version": 3
   },
   "file_extension": ".py",
   "mimetype": "text/x-python",
   "name": "python",
   "nbconvert_exporter": "python",
   "pygments_lexer": "ipython3",
   "version": "3.10.6"
  }
 },
 "nbformat": 4,
 "nbformat_minor": 5
}
